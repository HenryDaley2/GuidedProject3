{
 "cells": [
  {
   "cell_type": "code",
   "execution_count": 4,
   "metadata": {},
   "outputs": [],
   "source": [
    "import pandas as pd\n",
    "import numpy as np\n",
    "\n",
    "data = pd.read_csv('troop_movements.csv', header=None, names=[\"timestamp\", \"unit_type\", \"faction\", \"location_x\", \"location_y\", \"destination_x\", \"destination_y\",\"HomeWorld\"])"
   ]
  },
  {
   "cell_type": "code",
   "execution_count": 5,
   "metadata": {},
   "outputs": [
    {
     "name": "stdout",
     "output_type": "stream",
     "text": [
      "faction\n",
      "resistance              501\n",
      "empire                  499\n",
      "empire_or_resistance      1\n",
      "Name: count, dtype: int64\n"
     ]
    }
   ],
   "source": [
    "faction_count = data[\"faction\"].value_counts()\n",
    "print(faction_count)"
   ]
  },
  {
   "cell_type": "code",
   "execution_count": 6,
   "metadata": {},
   "outputs": [
    {
     "name": "stdout",
     "output_type": "stream",
     "text": [
      "HomeWorld\n",
      "Champala        31\n",
      "Kalee           31\n",
      "Vulpter         30\n",
      "Mirial          30\n",
      "Trandosha       28\n",
      "Aleen Minor     28\n",
      "Tholoth         28\n",
      "Naboo           27\n",
      "Eriadu          27\n",
      "Stewjon         27\n",
      "Kashyyyk        26\n",
      "Rodia           26\n",
      "Muunilinst      26\n",
      "Dathomir        26\n",
      "Iridonia        26\n",
      "Bestine IV      26\n",
      "Socorro         25\n",
      "Toydaria        25\n",
      "Haruun Kal      25\n",
      "Dagobah         25\n",
      "Concord Dawn    25\n",
      "Shili           24\n",
      "Zolan           24\n",
      "Tund            24\n",
      "Quermia         24\n",
      "Mon Cala        23\n",
      "Chandrila       22\n",
      "Sullust         22\n",
      "Cerea           21\n",
      "Alderaan        21\n",
      "Serenno         21\n",
      "Malastare       20\n",
      "Skako           20\n",
      "Tatooine        20\n",
      "Iktotch         20\n",
      "Ojom            20\n",
      "Corellia        19\n",
      "Troiken         19\n",
      "Glee Anselm     19\n",
      "Ryloth          17\n",
      "Dorin           17\n",
      "Umbara          15\n",
      "homeworld        1\n",
      "Name: count, dtype: int64\n"
     ]
    }
   ],
   "source": [
    "homeworld_count = data[\"HomeWorld\"].value_counts()\n",
    "print(homeworld_count)"
   ]
  },
  {
   "cell_type": "code",
   "execution_count": 7,
   "metadata": {},
   "outputs": [
    {
     "name": "stdout",
     "output_type": "stream",
     "text": [
      "unit_type\n",
      "resistance_soldier    144\n",
      "unknown               127\n",
      "tie_silencer          127\n",
      "x-wing                127\n",
      "at-at                 122\n",
      "stormtrooper          120\n",
      "at-st                 118\n",
      "tie_fighter           115\n",
      "unit_type               1\n",
      "Name: count, dtype: int64\n"
     ]
    }
   ],
   "source": [
    "unit_type = data[\"unit_type\"].value_counts()\n",
    "print(unit_type)"
   ]
  },
  {
   "cell_type": "code",
   "execution_count": 8,
   "metadata": {},
   "outputs": [
    {
     "name": "stdout",
     "output_type": "stream",
     "text": [
      "                    timestamp     unit_type               faction  location_x  \\\n",
      "timestamp             unit_id     unit_type  empire_or_resistance  location_x   \n",
      "2025-03-17 15:14:23         1       unknown            resistance           1   \n",
      "2025-03-17 15:14:22         2  tie_silencer                empire           1   \n",
      "2025-03-17 15:14:21         3  tie_silencer                empire           7   \n",
      "2025-03-17 15:14:20         4        x-wing                empire           4   \n",
      "\n",
      "                     location_y  destination_x  destination_y   HomeWorld  \\\n",
      "timestamp            location_y  destination_x  destination_y   homeworld   \n",
      "2025-03-17 15:14:23           5              6              5    Iridonia   \n",
      "2025-03-17 15:14:22           2             10              8  Muunilinst   \n",
      "2025-03-17 15:14:21           4              6              3       Kalee   \n",
      "2025-03-17 15:14:20           1              4              7       Dorin   \n",
      "\n",
      "                     is_resistance  \n",
      "timestamp                    False  \n",
      "2025-03-17 15:14:23           True  \n",
      "2025-03-17 15:14:22          False  \n",
      "2025-03-17 15:14:21          False  \n",
      "2025-03-17 15:14:20          False  \n"
     ]
    }
   ],
   "source": [
    "data[\"is_resistance\"]= data[\"faction\"] == \"resistance\"\n",
    "print(data.head())"
   ]
  },
  {
   "cell_type": "code",
   "execution_count": null,
   "metadata": {},
   "outputs": [],
   "source": []
  }
 ],
 "metadata": {
  "language_info": {
   "name": "python"
  }
 },
 "nbformat": 4,
 "nbformat_minor": 2
}
