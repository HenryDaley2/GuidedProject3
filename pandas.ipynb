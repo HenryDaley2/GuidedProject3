{
 "cells": [
  {
   "cell_type": "code",
   "execution_count": 13,
   "metadata": {},
   "outputs": [],
   "source": [
    "import pandas as pd\n",
    "import numpy as np\n",
    "\n",
    "data = pd.read_csv('troop_movements.csv', header=None, names=[\"timestamp\", \"unit_type\", \"faction\", \"location_x\", \"location_y\", \"destination_x\", \"destination_y\",\"HomeWorld\"])"
   ]
  },
  {
   "cell_type": "code",
   "execution_count": 5,
   "metadata": {},
   "outputs": [
    {
     "name": "stdout",
     "output_type": "stream",
     "text": [
      "faction\n",
      "resistance              501\n",
      "empire                  499\n",
      "empire_or_resistance      1\n",
      "Name: count, dtype: int64\n"
     ]
    }
   ],
   "source": [
    "faction_count = data[\"faction\"].value_counts()\n",
    "print(faction_count)"
   ]
  },
  {
   "cell_type": "code",
   "execution_count": 6,
   "metadata": {},
   "outputs": [
    {
     "name": "stdout",
     "output_type": "stream",
     "text": [
      "HomeWorld\n",
      "Champala        31\n",
      "Kalee           31\n",
      "Vulpter         30\n",
      "Mirial          30\n",
      "Trandosha       28\n",
      "Aleen Minor     28\n",
      "Tholoth         28\n",
      "Naboo           27\n",
      "Eriadu          27\n",
      "Stewjon         27\n",
      "Kashyyyk        26\n",
      "Rodia           26\n",
      "Muunilinst      26\n",
      "Dathomir        26\n",
      "Iridonia        26\n",
      "Bestine IV      26\n",
      "Socorro         25\n",
      "Toydaria        25\n",
      "Haruun Kal      25\n",
      "Dagobah         25\n",
      "Concord Dawn    25\n",
      "Shili           24\n",
      "Zolan           24\n",
      "Tund            24\n",
      "Quermia         24\n",
      "Mon Cala        23\n",
      "Chandrila       22\n",
      "Sullust         22\n",
      "Cerea           21\n",
      "Alderaan        21\n",
      "Serenno         21\n",
      "Malastare       20\n",
      "Skako           20\n",
      "Tatooine        20\n",
      "Iktotch         20\n",
      "Ojom            20\n",
      "Corellia        19\n",
      "Troiken         19\n",
      "Glee Anselm     19\n",
      "Ryloth          17\n",
      "Dorin           17\n",
      "Umbara          15\n",
      "homeworld        1\n",
      "Name: count, dtype: int64\n"
     ]
    }
   ],
   "source": [
    "homeworld_count = data[\"HomeWorld\"].value_counts()\n",
    "print(homeworld_count)"
   ]
  },
  {
   "cell_type": "code",
   "execution_count": 7,
   "metadata": {},
   "outputs": [
    {
     "name": "stdout",
     "output_type": "stream",
     "text": [
      "unit_type\n",
      "resistance_soldier    144\n",
      "unknown               127\n",
      "tie_silencer          127\n",
      "x-wing                127\n",
      "at-at                 122\n",
      "stormtrooper          120\n",
      "at-st                 118\n",
      "tie_fighter           115\n",
      "unit_type               1\n",
      "Name: count, dtype: int64\n"
     ]
    }
   ],
   "source": [
    "unit_type = data[\"unit_type\"].value_counts()\n",
    "print(unit_type)"
   ]
  },
  {
   "cell_type": "code",
   "execution_count": 8,
   "metadata": {},
   "outputs": [
    {
     "name": "stdout",
     "output_type": "stream",
     "text": [
      "                    timestamp     unit_type               faction  location_x  \\\n",
      "timestamp             unit_id     unit_type  empire_or_resistance  location_x   \n",
      "2025-03-17 15:14:23         1       unknown            resistance           1   \n",
      "2025-03-17 15:14:22         2  tie_silencer                empire           1   \n",
      "2025-03-17 15:14:21         3  tie_silencer                empire           7   \n",
      "2025-03-17 15:14:20         4        x-wing                empire           4   \n",
      "\n",
      "                     location_y  destination_x  destination_y   HomeWorld  \\\n",
      "timestamp            location_y  destination_x  destination_y   homeworld   \n",
      "2025-03-17 15:14:23           5              6              5    Iridonia   \n",
      "2025-03-17 15:14:22           2             10              8  Muunilinst   \n",
      "2025-03-17 15:14:21           4              6              3       Kalee   \n",
      "2025-03-17 15:14:20           1              4              7       Dorin   \n",
      "\n",
      "                     is_resistance  \n",
      "timestamp                    False  \n",
      "2025-03-17 15:14:23           True  \n",
      "2025-03-17 15:14:22          False  \n",
      "2025-03-17 15:14:21          False  \n",
      "2025-03-17 15:14:20          False  \n"
     ]
    }
   ],
   "source": [
    "data[\"is_resistance\"]= data[\"faction\"] == \"resistance\"\n",
    "print(data.head())"
   ]
  },
  {
   "cell_type": "code",
   "execution_count": 14,
   "metadata": {},
   "outputs": [
    {
     "name": "stderr",
     "output_type": "stream",
     "text": [
      "C:\\Users\\wasadmin\\AppData\\Local\\Temp\\2\\ipykernel_7356\\731319876.py:7: FutureWarning: \n",
      "\n",
      "Passing `palette` without assigning `hue` is deprecated and will be removed in v0.14.0. Assign the `x` variable to `hue` and set `legend=False` for the same effect.\n",
      "\n",
      "  sns.countplot(x=\"faction\", data=data, palette=\"coolwarm\")\n"
     ]
    },
    {
     "data": {
      "image/png": "[encoded data removed]",
      "text/plain": [
       "<Figure size 800x500 with 1 Axes>"
      ]
     },
     "metadata": {},
     "output_type": "display_data"
    }
   ],
   "source": [
    "import seaborn as sns\n",
    "import matplotlib.pyplot as plt\n",
    "\n",
    "sns.set_style(\"whitegrid\")\n",
    "\n",
    "plt.figure(figsize=(8,5))\n",
    "sns.countplot(x=\"faction\", data=data, palette=\"coolwarm\")\n",
    "\n",
    "plt.xlabel(\"Faction\", fontsize=12)\n",
    "plt.ylabel(\"Count\", fontsize=12)\n",
    "plt.title(\"Character Count by Empire or Resistance\", fontsize=14)\n",
    "plt.show()"
   ]
  },
  {
   "cell_type": "code",
   "execution_count": 18,
   "metadata": {},
   "outputs": [
    {
     "ename": "KeyError",
     "evalue": "'is_resistance'",
     "output_type": "error",
     "traceback": [
      "\u001b[1;31m---------------------------------------------------------------------------\u001b[0m",
      "\u001b[1;31mKeyError\u001b[0m                                  Traceback (most recent call last)",
      "File \u001b[1;32m~\\AppData\\Roaming\\Python\\Python312\\site-packages\\pandas\\core\\indexes\\base.py:3805\u001b[0m, in \u001b[0;36mIndex.get_loc\u001b[1;34m(self, key)\u001b[0m\n\u001b[0;32m   3804\u001b[0m \u001b[38;5;28;01mtry\u001b[39;00m:\n\u001b[1;32m-> 3805\u001b[0m     \u001b[38;5;28;01mreturn\u001b[39;00m \u001b[38;5;28;43mself\u001b[39;49m\u001b[38;5;241;43m.\u001b[39;49m\u001b[43m_engine\u001b[49m\u001b[38;5;241;43m.\u001b[39;49m\u001b[43mget_loc\u001b[49m\u001b[43m(\u001b[49m\u001b[43mcasted_key\u001b[49m\u001b[43m)\u001b[49m\n\u001b[0;32m   3806\u001b[0m \u001b[38;5;28;01mexcept\u001b[39;00m \u001b[38;5;167;01mKeyError\u001b[39;00m \u001b[38;5;28;01mas\u001b[39;00m err:\n",
      "File \u001b[1;32mindex.pyx:167\u001b[0m, in \u001b[0;36mpandas._libs.index.IndexEngine.get_loc\u001b[1;34m()\u001b[0m\n",
      "File \u001b[1;32mindex.pyx:196\u001b[0m, in \u001b[0;36mpandas._libs.index.IndexEngine.get_loc\u001b[1;34m()\u001b[0m\n",
      "File \u001b[1;32mpandas\\\\_libs\\\\hashtable_class_helper.pxi:7081\u001b[0m, in \u001b[0;36mpandas._libs.hashtable.PyObjectHashTable.get_item\u001b[1;34m()\u001b[0m\n",
      "File \u001b[1;32mpandas\\\\_libs\\\\hashtable_class_helper.pxi:7089\u001b[0m, in \u001b[0;36mpandas._libs.hashtable.PyObjectHashTable.get_item\u001b[1;34m()\u001b[0m\n",
      "\u001b[1;31mKeyError\u001b[0m: 'is_resistance'",
      "\nThe above exception was the direct cause of the following exception:\n",
      "\u001b[1;31mKeyError\u001b[0m                                  Traceback (most recent call last)",
      "Cell \u001b[1;32mIn[18], line 9\u001b[0m\n\u001b[0;32m      6\u001b[0m target \u001b[38;5;241m=\u001b[39m \u001b[38;5;124m\"\u001b[39m\u001b[38;5;124mis_resistance\u001b[39m\u001b[38;5;124m\"\u001b[39m\n\u001b[0;32m      8\u001b[0m x \u001b[38;5;241m=\u001b[39m data[features]\n\u001b[1;32m----> 9\u001b[0m y \u001b[38;5;241m=\u001b[39m \u001b[43mdata\u001b[49m\u001b[43m[\u001b[49m\u001b[43mtarget\u001b[49m\u001b[43m]\u001b[49m\n\u001b[0;32m     11\u001b[0m x_encoded \u001b[38;5;241m=\u001b[39m pd\u001b[38;5;241m.\u001b[39mget_dummies(x)\n\u001b[0;32m     13\u001b[0m X_train, X_test, y_train, y_test \u001b[38;5;241m=\u001b[39m train_test_split(x_encoded, target, test_size\u001b[38;5;241m=\u001b[39m\u001b[38;5;241m0.2\u001b[39m, random_state\u001b[38;5;241m=\u001b[39m\u001b[38;5;241m42\u001b[39m)\n",
      "File \u001b[1;32m~\\AppData\\Roaming\\Python\\Python312\\site-packages\\pandas\\core\\frame.py:4102\u001b[0m, in \u001b[0;36mDataFrame.__getitem__\u001b[1;34m(self, key)\u001b[0m\n\u001b[0;32m   4100\u001b[0m \u001b[38;5;28;01mif\u001b[39;00m \u001b[38;5;28mself\u001b[39m\u001b[38;5;241m.\u001b[39mcolumns\u001b[38;5;241m.\u001b[39mnlevels \u001b[38;5;241m>\u001b[39m \u001b[38;5;241m1\u001b[39m:\n\u001b[0;32m   4101\u001b[0m     \u001b[38;5;28;01mreturn\u001b[39;00m \u001b[38;5;28mself\u001b[39m\u001b[38;5;241m.\u001b[39m_getitem_multilevel(key)\n\u001b[1;32m-> 4102\u001b[0m indexer \u001b[38;5;241m=\u001b[39m \u001b[38;5;28;43mself\u001b[39;49m\u001b[38;5;241;43m.\u001b[39;49m\u001b[43mcolumns\u001b[49m\u001b[38;5;241;43m.\u001b[39;49m\u001b[43mget_loc\u001b[49m\u001b[43m(\u001b[49m\u001b[43mkey\u001b[49m\u001b[43m)\u001b[49m\n\u001b[0;32m   4103\u001b[0m \u001b[38;5;28;01mif\u001b[39;00m is_integer(indexer):\n\u001b[0;32m   4104\u001b[0m     indexer \u001b[38;5;241m=\u001b[39m [indexer]\n",
      "File \u001b[1;32m~\\AppData\\Roaming\\Python\\Python312\\site-packages\\pandas\\core\\indexes\\base.py:3812\u001b[0m, in \u001b[0;36mIndex.get_loc\u001b[1;34m(self, key)\u001b[0m\n\u001b[0;32m   3807\u001b[0m     \u001b[38;5;28;01mif\u001b[39;00m \u001b[38;5;28misinstance\u001b[39m(casted_key, \u001b[38;5;28mslice\u001b[39m) \u001b[38;5;129;01mor\u001b[39;00m (\n\u001b[0;32m   3808\u001b[0m         \u001b[38;5;28misinstance\u001b[39m(casted_key, abc\u001b[38;5;241m.\u001b[39mIterable)\n\u001b[0;32m   3809\u001b[0m         \u001b[38;5;129;01mand\u001b[39;00m \u001b[38;5;28many\u001b[39m(\u001b[38;5;28misinstance\u001b[39m(x, \u001b[38;5;28mslice\u001b[39m) \u001b[38;5;28;01mfor\u001b[39;00m x \u001b[38;5;129;01min\u001b[39;00m casted_key)\n\u001b[0;32m   3810\u001b[0m     ):\n\u001b[0;32m   3811\u001b[0m         \u001b[38;5;28;01mraise\u001b[39;00m InvalidIndexError(key)\n\u001b[1;32m-> 3812\u001b[0m     \u001b[38;5;28;01mraise\u001b[39;00m \u001b[38;5;167;01mKeyError\u001b[39;00m(key) \u001b[38;5;28;01mfrom\u001b[39;00m \u001b[38;5;21;01merr\u001b[39;00m\n\u001b[0;32m   3813\u001b[0m \u001b[38;5;28;01mexcept\u001b[39;00m \u001b[38;5;167;01mTypeError\u001b[39;00m:\n\u001b[0;32m   3814\u001b[0m     \u001b[38;5;66;03m# If we have a listlike key, _check_indexing_error will raise\u001b[39;00m\n\u001b[0;32m   3815\u001b[0m     \u001b[38;5;66;03m#  InvalidIndexError. Otherwise we fall through and re-raise\u001b[39;00m\n\u001b[0;32m   3816\u001b[0m     \u001b[38;5;66;03m#  the TypeError.\u001b[39;00m\n\u001b[0;32m   3817\u001b[0m     \u001b[38;5;28mself\u001b[39m\u001b[38;5;241m.\u001b[39m_check_indexing_error(key)\n",
      "\u001b[1;31mKeyError\u001b[0m: 'is_resistance'"
     ]
    }
   ],
   "source": [
    "from sklearn.model_selection import train_test_split\n",
    "from sklearn.tree import DecisionTreeClassifier\n",
    "from sklearn.metrics import accuracy_score\n",
    "\n",
    "features = [\"HomeWorld\",\"unit_type\"]\n",
    "target = \"is_resistance\"\n",
    "\n",
    "x = data[features]\n",
    "y = data[target]\n",
    "\n",
    "x_encoded = pd.get_dummies(x)\n",
    "\n",
    "X_train, X_test, y_train, y_test = train_test_split(x_encoded, target, test_size=0.2, random_state=42)\n",
    "\n",
    "model = DecisionTreeClassifier()\n",
    "model.fit(X_train, y_train)\n",
    "importances = model.feature_importances_\n",
    "\n",
    "feature_importances = pd.DataFrame({'Feature':x_encoded.columns, 'Importance':importances})\n",
    "\n",
    "feature_importances = feature_importances.sort_values('Importance', ascending=False)\n",
    "\n",
    "plt.figure(figsize=(8,6))\n",
    "plt.bar(feature_importances['Feature'], feature_importances['Imprtance'])\n",
    "plt.xticks(rotation=90)\n",
    "plt.xlabel('Feature')\n",
    "plt.ylabel('Importance')\n",
    "plt.title('Feature Importnace')\n",
    "plt.show()\n",
    "\n",
    "most_influential_unit_type = feature_importances.iloc[0]['Feature']\n",
    "print('Most Influential Unit Type:', most_influential_unit_type)\n",
    "\n",
    "\n"
   ]
  },
  {
   "cell_type": "code",
   "execution_count": null,
   "metadata": {},
   "outputs": [],
   "source": []
  }
 ],
 "metadata": {
  "language_info": {
   "name": "python"
  }
 },
 "nbformat": 4,
 "nbformat_minor": 2
}
